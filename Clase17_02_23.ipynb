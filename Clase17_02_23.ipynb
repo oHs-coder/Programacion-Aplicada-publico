{
  "nbformat": 4,
  "nbformat_minor": 0,
  "metadata": {
    "colab": {
      "provenance": [],
      "authorship_tag": "ABX9TyOV2br7L25hh/XCXkcjP7iE",
      "include_colab_link": true
    },
    "kernelspec": {
      "name": "python3",
      "display_name": "Python 3"
    },
    "language_info": {
      "name": "python"
    }
  },
  "cells": [
    {
      "cell_type": "markdown",
      "metadata": {
        "id": "view-in-github",
        "colab_type": "text"
      },
      "source": [
        "<a href=\"https://colab.research.google.com/github/oHs-coder/Programacion-Aplicada-publico/blob/main/Clase17_02_23.ipynb\" target=\"_parent\"><img src=\"https://colab.research.google.com/assets/colab-badge.svg\" alt=\"Open In Colab\"/></a>"
      ]
    },
    {
      "cell_type": "code",
      "execution_count": 10,
      "metadata": {
        "colab": {
          "base_uri": "https://localhost:8080/"
        },
        "id": "SQSXSl2YP1gm",
        "outputId": "7e76d10a-f0aa-4137-8807-d76ec5bf84ae"
      },
      "outputs": [
        {
          "output_type": "stream",
          "name": "stdout",
          "text": [
            "INGRESE UNA CADENA DE TEXTO O NÚMEROS MENORES O IGUALES A 10 ESPACIOS : kant\n",
            "000000kant\n"
          ]
        }
      ],
      "source": [
        "texto= str(input(\"INGRESE UNA CADENA DE TEXTO O NÚMEROS MENORES O IGUALES A 10 ESPACIOS : \"))\n",
        "y=10\n",
        "Cant_ceros = \"0\"*y\n",
        "print(Cant_ceros[:y-len(texto)]+texto)\n"
      ]
    }
  ]
}